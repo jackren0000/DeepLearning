{
 "cells": [
  {
   "cell_type": "markdown",
   "metadata": {},
   "source": [
    "# Lab 1\n",
    "\n",
    "Welcome to your first lab! This notebook contains all the code and comments that you need to submit. Labs are two weeks long and the places where you need to edit are highlighted in red. Feel free to add in your own markdown for additional comments.\n",
    "\n",
    "__Submission details: make sure you have run all your cells from top to bottom (you can click _Kernel_ and _Restart Kernel and Run All Cells_). Submit this Jupyter Notebook and also submit the .py file that is generated.__"
   ]
  },
  {
   "cell_type": "code",
   "execution_count": 11,
   "metadata": {},
   "outputs": [],
   "source": [
    "## This code snippet does not need to be edited\n",
    "\n",
    "from python_environment_check import check_packages\n",
    "from python_environment_check import set_background\n",
    "\n",
    "## Colour schemes for setting background colour\n",
    "white_bgd = 'rgba(0,0,0,0)'\n",
    "red_bgd = 'rgba(255,0,0,0.2)'"
   ]
  },
  {
   "cell_type": "code",
   "execution_count": 10,
   "metadata": {},
   "outputs": [
    {
     "data": {
      "text/html": [
       "<img src onerror=\"var cell = this.closest('.jp-CodeCell');var editor = cell.querySelector('.jp-Editor');editor.style.background='rgba(255,0,0,0.2)';this.parentNode.removeChild(this)\" style=\"display:none\">"
      ],
      "text/plain": [
       "<IPython.core.display.HTML object>"
      ]
     },
     "metadata": {},
     "output_type": "display_data"
    }
   ],
   "source": [
    "set_background(red_bgd)\n",
    "\n",
    "## Code snippets in red (similar to this) is where you need to edit your answer)\n",
    "# Set your student ID and name here:\n",
    "\n",
    "student_number = ??? # 12345678\n",
    "student_name = ??? # \"John Doe\""
   ]
  },
  {
   "cell_type": "markdown",
   "metadata": {},
   "source": [
    "# Libraries\n",
    "\n"
   ]
  },
  {
   "cell_type": "code",
   "execution_count": null,
   "metadata": {},
   "outputs": [],
   "source": [
    "## Checks for the minimum version requirements for a few libraries\n",
    "## Credits to: https://sebastianraschka.com/blog/2022/ml-pytorch-book.html for the code related to checking version requirements\n",
    "\n",
    "\n",
    "d = {\n",
    "    # 'torch': '1.8.0',\n",
    "    # 'torchvision': '0.9.0',\n",
    "    'numpy': '1.21.2',\n",
    "    'matplotlib': '3.4.3',\n",
    "}\n",
    "\n",
    "check_packages(d)\n",
    "\n",
    "if 'google.colab' in str(get_ipython()):\n",
    "  print('Running on CoLab')\n",
    "else:\n",
    "  print('Not running on CoLab')"
   ]
  },
  {
   "cell_type": "markdown",
   "metadata": {},
   "source": [
    "Libraries are important as it saves us time from writing our own functions all the time such as graphing, or creating matrices. Brief library descriptions have been added for every library that we import. We can use the \"import\" function to import libraries, and use _as_ to rename the library within our workspace. For example, we could have used _import numpy_ by itself, and referenced Numpy functions by _numpy.function_, but instead we have an alias of Numpy as _np.function_ instead. "
   ]
  },
  {
   "cell_type": "code",
   "execution_count": null,
   "metadata": {},
   "outputs": [],
   "source": [
    "## Libraries, you do not need to import any additional libraries for this lab\n",
    "\n",
    "import numpy as np ## Numpy is the fundamental building block of understanding tensor (matrices) within Python\n",
    "import matplotlib.pyplot as plt ## Matplotlib.pyplot is the graphing library that we will be using throughout the semester\n",
    "import random ## Useful for sampling \n",
    "\n",
    "from scipy.special import gamma ## Pre-built gamma function that we will use for this lab (for the final task)\n",
    "import math # Basic math library\n",
    "\n",
    "import os ## Useful for running command line within python\n",
    "from IPython.display import Image ## For markdown purposes\n"
   ]
  },
  {
   "cell_type": "markdown",
   "metadata": {},
   "source": [
    "# Section 1 - Understanding Python basics"
   ]
  },
  {
   "cell_type": "markdown",
   "metadata": {},
   "source": [
    "In this section, you will be writing some procedural-type code which includes:\n",
    "- 1.1 Data types\n",
    "- 1.2 Conditional statements\n",
    "- 1.3 Loops \n",
    "- 1.4 Random number generator and writing functions\n",
    "- 1.5 Classes\n",
    "\n",
    "Throughout this lab, there will be code and written answers that need to be filled out by you.  The comments in the code snippet and markdown text will guide you on what you need to fill out. "
   ]
  },
  {
   "cell_type": "markdown",
   "metadata": {},
   "source": [
    "## 1.1  Data types\n",
    "\n",
    "This task is a gentle introduction in creating a few of the data types offered by Python. Formatting the print statement can be done in several ways within Python. The print statement below follows the format of __print(f\"      \")__ and you can add in variable types (automatically converted to string) within the print statement by wrapping it with __{}__"
   ]
  },
  {
   "cell_type": "code",
   "execution_count": null,
   "metadata": {},
   "outputs": [],
   "source": [
    "print(f\"My ID is: {student_number} and my name is {student_name} \")"
   ]
  },
  {
   "cell_type": "markdown",
   "metadata": {},
   "source": [
    "__Lists__ are the most versatile of Python's compound data types. A list contains items separated by commas and enclosed within square brackets ([]). To some extent, lists are similar to arrays in C. One of the differences between them is that all the items belonging to a list can be of different data type.\n",
    "\n",
    "The values stored in a list can be accessed using the slice operator ([ ] and [:]) with indexes starting at 0 in the beginning of the list and working their way to end -1. The plus (+) sign is the list concatenation operator, and the asterisk (*) is the repetition operator."
   ]
  },
  {
   "cell_type": "code",
   "execution_count": 15,
   "metadata": {},
   "outputs": [
    {
     "data": {
      "text/html": [
       "<img src onerror=\"var cell = this.closest('.jp-CodeCell');var editor = cell.querySelector('.jp-Editor');editor.style.background='rgba(255,0,0,0.2)';this.parentNode.removeChild(this)\" style=\"display:none\">"
      ],
      "text/plain": [
       "<IPython.core.display.HTML object>"
      ]
     },
     "metadata": {},
     "output_type": "display_data"
    }
   ],
   "source": [
    "set_background(red_bgd)\n",
    "\n",
    "## Manually make a list of values from 0 to 2 (inclusive) in intervals of 0.5. \n",
    "\n",
    "my_list = ???\n"
   ]
  },
  {
   "cell_type": "code",
   "execution_count": null,
   "metadata": {},
   "outputs": [
    {
     "data": {
      "text/html": [
       "<img src onerror=\"var cell = this.closest('.jp-CodeCell');var editor = cell.querySelector('.jp-Editor');editor.style.background='rgba(255,0,0,0.2)';this.parentNode.removeChild(this)\" style=\"display:none\">"
      ],
      "text/plain": [
       "<IPython.core.display.HTML object>"
      ]
     },
     "metadata": {},
     "output_type": "display_data"
    }
   ],
   "source": [
    "set_background(red_bgd)\n",
    "\n",
    "## Next, append the string \"This is a string\" to the end of the list\n",
    "\n",
    "my_list.???\n",
    "\n",
    "print(f\"Length of list is {len(my_list)} and the contents of my_list is: \\n{my_list}\")"
   ]
  },
  {
   "cell_type": "markdown",
   "metadata": {},
   "source": [
    "Python's __dictionaries__ are kind of hash-table type. They work like associative arrays or hashes found in Perl and consist of key-value pairs. A dictionary key can be almost any Python type, but are usually numbers or strings. Values, on the other hand, can be any arbitrary Python object.\n",
    "\n",
    "Dictionaries are enclosed by curly braces ({ }) and values can be assigned and accessed using square braces ([])."
   ]
  },
  {
   "cell_type": "code",
   "execution_count": 18,
   "metadata": {},
   "outputs": [
    {
     "data": {
      "text/html": [
       "<img src onerror=\"var cell = this.closest('.jp-CodeCell');var editor = cell.querySelector('.jp-Editor');editor.style.background='rgba(255,0,0,0.2)';this.parentNode.removeChild(this)\" style=\"display:none\">"
      ],
      "text/plain": [
       "<IPython.core.display.HTML object>"
      ]
     },
     "metadata": {},
     "output_type": "display_data"
    }
   ],
   "source": [
    "set_background(red_bgd)\n",
    "\n",
    "\n",
    "## Create a dictionary with the following mappings and print out the dictionary by iterating through it. Use the functions \"iter\" and \"next\" to iterate through the dictionary\n",
    "\n",
    "## Unit : 4179\n",
    "## Session: Lab\n",
    "\n",
    "my_dict = {???}"
   ]
  },
  {
   "cell_type": "markdown",
   "metadata": {},
   "source": [
    "## 1.2 Conditional statements\n",
    "\n",
    "This task demonstrates the high level language Python uses for program control"
   ]
  },
  {
   "cell_type": "code",
   "execution_count": 19,
   "metadata": {},
   "outputs": [
    {
     "data": {
      "text/html": [
       "<img src onerror=\"var cell = this.closest('.jp-CodeCell');var editor = cell.querySelector('.jp-Editor');editor.style.background='rgba(255,0,0,0.2)';this.parentNode.removeChild(this)\" style=\"display:none\">"
      ],
      "text/plain": [
       "<IPython.core.display.HTML object>"
      ]
     },
     "metadata": {},
     "output_type": "display_data"
    }
   ],
   "source": [
    "set_background(red_bgd)\n",
    "\n",
    "# Write an IF statement to check if your student ID is divisble by 5 and 8\n",
    "\n",
    "if((student_number ??? )):\n",
    "    \n"
   ]
  },
  {
   "cell_type": "code",
   "execution_count": 20,
   "metadata": {},
   "outputs": [
    {
     "data": {
      "text/html": [
       "<img src onerror=\"var cell = this.closest('.jp-CodeCell');var editor = cell.querySelector('.jp-Editor');editor.style.background='rgba(255,0,0,0.2)';this.parentNode.removeChild(this)\" style=\"display:none\">"
      ],
      "text/plain": [
       "<IPython.core.display.HTML object>"
      ]
     },
     "metadata": {},
     "output_type": "display_data"
    }
   ],
   "source": [
    "set_background(red_bgd)\n",
    "\n",
    "# Check if your student number is a float\n",
    "\n"
   ]
  },
  {
   "cell_type": "markdown",
   "metadata": {},
   "source": [
    "## 1.3 Loops\n",
    "\n",
    "This task demonstrates an understanding of how loops work in Python. Remember, indexing starts from 0! "
   ]
  },
  {
   "cell_type": "code",
   "execution_count": 21,
   "metadata": {},
   "outputs": [
    {
     "data": {
      "text/html": [
       "<img src onerror=\"var cell = this.closest('.jp-CodeCell');var editor = cell.querySelector('.jp-Editor');editor.style.background='rgba(255,0,0,0.2)';this.parentNode.removeChild(this)\" style=\"display:none\">"
      ],
      "text/plain": [
       "<IPython.core.display.HTML object>"
      ]
     },
     "metadata": {},
     "output_type": "display_data"
    }
   ],
   "source": [
    "set_background(red_bgd)\n",
    "\n",
    "# For the numbers between 90 and 210 (inclusive), print out the numbers that are multiples of 15\n",
    "\n",
    "for(???):\n",
    "        \n"
   ]
  },
  {
   "cell_type": "code",
   "execution_count": 22,
   "metadata": {},
   "outputs": [
    {
     "data": {
      "text/html": [
       "<img src onerror=\"var cell = this.closest('.jp-CodeCell');var editor = cell.querySelector('.jp-Editor');editor.style.background='rgba(255,0,0,0.2)';this.parentNode.removeChild(this)\" style=\"display:none\">"
      ],
      "text/plain": [
       "<IPython.core.display.HTML object>"
      ]
     },
     "metadata": {},
     "output_type": "display_data"
    }
   ],
   "source": [
    "set_background(red_bgd)\n",
    "\n",
    "\n",
    "# For your student ID, keep dividing by 4 until it is a value lower than 10. Print out the final value. \n",
    "# Note: Do not edit the original student_number variable.\n",
    "\n",
    "temp_ID = student_number\n",
    "\n",
    "while(temp_ID ???):\n",
    "\n",
    "print(temp_ID)\n"
   ]
  },
  {
   "cell_type": "markdown",
   "metadata": {},
   "source": [
    "## 1.4 Random number generator and writing functions\n",
    "\n",
    "This task tests your ability to read the official documentation from Python, and being able to define your own functions.\n",
    "\n",
    "Before beginning this task, it is important to understand the purpose of randon-number generator (RNG) seeds. RNG can never be completely random, and we can use the concept of _pseudo-random_ to be able to reproduce results. When setting a seed, any numbers that are randomly generated will be the same random numbers if we were to generate again using the same seed, which means we can get the same random result. This is useful in being able to run and generate random numbers between machine, and to get the same consistent random results. "
   ]
  },
  {
   "cell_type": "code",
   "execution_count": 23,
   "metadata": {},
   "outputs": [
    {
     "data": {
      "text/html": [
       "<img src onerror=\"var cell = this.closest('.jp-CodeCell');var editor = cell.querySelector('.jp-Editor');editor.style.background='rgba(255,0,0,0.2)';this.parentNode.removeChild(this)\" style=\"display:none\">"
      ],
      "text/plain": [
       "<IPython.core.display.HTML object>"
      ]
     },
     "metadata": {},
     "output_type": "display_data"
    }
   ],
   "source": [
    "set_background(red_bgd)\n",
    "\n",
    "## Set a random seed that is equal to your student_number\n",
    "## Hint: Have you read the python documentation for the official python library: \"random\" ? \n",
    "\n"
   ]
  },
  {
   "cell_type": "code",
   "execution_count": 24,
   "metadata": {},
   "outputs": [
    {
     "data": {
      "text/html": [
       "<img src onerror=\"var cell = this.closest('.jp-CodeCell');var editor = cell.querySelector('.jp-Editor');editor.style.background='rgba(255,0,0,0.2)';this.parentNode.removeChild(this)\" style=\"display:none\">"
      ],
      "text/plain": [
       "<IPython.core.display.HTML object>"
      ]
     },
     "metadata": {},
     "output_type": "display_data"
    }
   ],
   "source": [
    "set_background(red_bgd)\n",
    "\n",
    "## Generate a random integer between 5 and 10\n",
    "\n",
    "rand_num = ???"
   ]
  },
  {
   "cell_type": "code",
   "execution_count": null,
   "metadata": {},
   "outputs": [
    {
     "data": {
      "text/html": [
       "<img src onerror=\"var cell = this.closest('.jp-CodeCell');var editor = cell.querySelector('.jp-Editor');editor.style.background='rgba(255,0,0,0.2)';this.parentNode.removeChild(this)\" style=\"display:none\">"
      ],
      "text/plain": [
       "<IPython.core.display.HTML object>"
      ]
     },
     "metadata": {},
     "output_type": "display_data"
    }
   ],
   "source": [
    "set_background(red_bgd)\n",
    "\n",
    "\n",
    "## Write a factorial function and pass in the number you have randomly generated into the factorial function\n",
    "\n",
    "def factorial_fn(number):\n",
    "\n",
    "factorial_fn(rand_num)"
   ]
  },
  {
   "cell_type": "markdown",
   "metadata": {},
   "source": [
    "## 1.5 Classes\n",
    "\n",
    "As Python is an object orientated programming (OOP) language, you need to understand how classes and objects work to program more efficiently in Python. In C, we have typically used procedural programming where you simply use function calls to achieve specific outcomes. With OOP, it becomes more efficient as you inherit methods from classes which are linked to the objects that you have created. Read more here for OOP:\n",
    "https://en.wikipedia.org/wiki/Object-oriented_programming\n",
    "\n",
    "In this task, you need to create a class called Person which will have 3 attributes:\n",
    "- Name\n",
    "- Age\n",
    "- Income\n",
    "\n",
    "This class will also have two methods:\n",
    "- A print statement that shows all the attributes of the person\n",
    "- Prints the person's age in 5 years time\n",
    "\n",
    "After declaring the class, make a \"Person\" named \"John\" with age being 36, and income being 50000. Use the two methods of summarise() and future_age() after creating this \"Person\". "
   ]
  },
  {
   "cell_type": "code",
   "execution_count": null,
   "metadata": {},
   "outputs": [
    {
     "data": {
      "text/html": [
       "<img src onerror=\"var cell = this.closest('.jp-CodeCell');var editor = cell.querySelector('.jp-Editor');editor.style.background='rgba(255,0,0,0.2)';this.parentNode.removeChild(this)\" style=\"display:none\">"
      ],
      "text/plain": [
       "<IPython.core.display.HTML object>"
      ]
     },
     "metadata": {},
     "output_type": "display_data"
    }
   ],
   "source": [
    "set_background(red_bgd)\n",
    "\n",
    "## Fill out this template to define a class called Person\n",
    "\n",
    "class Person:\n",
    "\n",
    "    def __init__(self, ???):\n",
    "\n",
    "           \n",
    "    def summarise(self): ## Summarises all attributes for Person\n",
    "        \n",
    "    def future_age(self): ## Prints future age\n",
    " \n",
    "        \n",
    "p1 = Person(???)\n",
    "p1.summarise() \n",
    "p1.future_age()\n",
    "\n",
    "#Note in Python str() wil convert a variable to a string without \n",
    "# any of the weird conversion issues (most of the time)\n"
   ]
  },
  {
   "cell_type": "markdown",
   "metadata": {},
   "source": [
    "Well done on making the class called \"Person\". In this next part, you will inherit the class that you have previously defined and create a new class called Student. This class will inherit all the attributes and methods from the \"Person\" class, and will have the following changes/additions:\n",
    "\n",
    "- Inherit the \"Person\" class \n",
    "- Add an attribute of the student's mark\n",
    "- Redefine the method of \"future_age\" to print out the student's age in 2 years time instead\n",
    "- Create a \"Student\" called \"Jane\" that is 20 years old, with 10000 as their income, and 89 as their mark\n",
    "\n",
    "After you have inherited the class, display the student's mark and execute the two methods under this new class"
   ]
  },
  {
   "cell_type": "code",
   "execution_count": 29,
   "metadata": {},
   "outputs": [
    {
     "data": {
      "text/html": [
       "<img src onerror=\"var cell = this.closest('.jp-CodeCell');var editor = cell.querySelector('.jp-Editor');editor.style.background='rgba(255,0,0,0.2)';this.parentNode.removeChild(this)\" style=\"display:none\">"
      ],
      "text/plain": [
       "<IPython.core.display.HTML object>"
      ]
     },
     "metadata": {},
     "output_type": "display_data"
    }
   ],
   "source": [
    "set_background(red_bgd)\n",
    "\n",
    "\n",
    "## Fill out this template of class inheritance\n",
    "\n",
    "class Student(Person):\n",
    "    def __init__(self, ???):\n",
    "        super().__init__(???)\n",
    "\n",
    "        \n",
    "\n",
    "sp1 = Student(???)\n",
    "sp1.mark\n",
    "sp1.future_age() \n",
    "sp1.summarise() \n"
   ]
  },
  {
   "cell_type": "markdown",
   "metadata": {},
   "source": [
    "# Section 2 - Using libraries"
   ]
  },
  {
   "cell_type": "markdown",
   "metadata": {},
   "source": [
    "In this section, you will be using the following libraries:\n",
    "- 2.1 numpy\n",
    "- 2.2 matplotlib"
   ]
  },
  {
   "cell_type": "markdown",
   "metadata": {},
   "source": [
    "## 2.1 Numpy\n"
   ]
  },
  {
   "cell_type": "code",
   "execution_count": null,
   "metadata": {},
   "outputs": [],
   "source": [
    "Image(url='https://upload.wikimedia.org/wikipedia/commons/thumb/1/1a/NumPy_logo.svg/775px-NumPy_logo.svg.png', width=300)"
   ]
  },
  {
   "cell_type": "markdown",
   "metadata": {},
   "source": [
    "NumPy (Numerical python) is a very popular Python library with a huge number of functions and utilities. There are many similarities between the functions found in Matlab and those in Numpy and so we can use our knowledge of Matlab to help with learning to use Numpy. Later when we introduce Pytorch (The Deep Learning Framework used in this unit) we will see that there are many similarities between it and Numpy. In this way Numpy is our Python stepping stone between Matlab and Pytorch!\n",
    "\n",
    "In this task, we will be performing manipulations on numpy arrays (from now on we will refer to numpy arrays as tensors) and understanding how tensors interact with one another. There are also new concepts such as broadcasting which is useful in writing more efficient code for tensor arithmetic by reducing the number of for loops required!"
   ]
  },
  {
   "cell_type": "code",
   "execution_count": null,
   "metadata": {},
   "outputs": [],
   "source": [
    "## Numpy arithmetic is similar to performing matrix arithmetic, except we are usually dealing with high dimensional tensors\n",
    "## There are a few caveats of numpy arithmetic to consider. \n",
    "## look at the following code example and comment on what is happening\n",
    "\n",
    "tensor_a = np.eye(2)\n",
    "tensor_b = np.array([[2, 5], [1, 3]])\n",
    "\n",
    "print(f\"tensor_a: \\n{tensor_a}\")\n",
    "print(f\"tensor_b: \\n{tensor_b}\")\n",
    "\n",
    "tensor_add = np.add(tensor_a, tensor_b)\n",
    "print(f\"tensor_add: \\n{tensor_add}\")\n",
    "\n",
    "tensor_add2 = tensor_a + tensor_b\n",
    "print(f\"tensor_add2: \\n{tensor_add2}\")\n",
    "\n",
    "tensor_mult = np.matmul(tensor_a, tensor_b)\n",
    "print(f\"tensor_mult: \\n{tensor_mult}\")\n",
    "\n",
    "tensor_mult2 = tensor_a * tensor_b\n",
    "print(f\"tensor_mult2: \\n{tensor_mult2}\")\n",
    "\n",
    "tensor_pow = tensor_b**2\n",
    "print(f\"tensor_pow: \\n{tensor_pow}\")\n",
    "\n",
    "tensor_pow2 = np.matmul(tensor_b, tensor_b)\n",
    "print(f\"tensor_pow2: \\n{tensor_pow2}\")\n"
   ]
  },
  {
   "cell_type": "code",
   "execution_count": null,
   "metadata": {},
   "outputs": [
    {
     "data": {
      "text/html": [
       "<img src onerror=\"var cell = this.closest('.jp-CodeCell');var editor = cell.querySelector('.jp-Editor');editor.style.background='rgba(255,0,0,0.2)';this.parentNode.removeChild(this)\" style=\"display:none\">"
      ],
      "text/plain": [
       "<IPython.core.display.HTML object>"
      ]
     },
     "metadata": {},
     "output_type": "display_data"
    }
   ],
   "source": [
    "set_background(red_bgd)\n",
    "\n",
    "\n",
    "\n",
    "## Use numpy to generate data x-values for a sine function. Calculate sin(x) for each of the x values. \n",
    "## You can use np.linspace to create linearly spaced values for your \"x\".\n",
    "## Generate at least 5 cycles\n",
    "\n",
    "x_values = ???\n",
    "sine_x = ???\n",
    "\n",
    "plt.plot(x_values,sine_x)\n",
    "plt.xlabel(\"x-values\")\n",
    "plt.ylabel(\"sine(x)\")\n",
    "plt.title(\"Sine wave\")\n",
    "# print(x_values)\n",
    "# print(sine_x)\n"
   ]
  },
  {
   "cell_type": "markdown",
   "metadata": {},
   "source": [
    "It is common to have data that is stored as an external file. In this case we will be using data that has been stored as a .npy format (numpy format) and using the numpy library to read it. Plot out the result and describe what you see."
   ]
  },
  {
   "cell_type": "code",
   "execution_count": null,
   "metadata": {},
   "outputs": [
    {
     "data": {
      "text/html": [
       "<img src onerror=\"var cell = this.closest('.jp-CodeCell');var editor = cell.querySelector('.jp-Editor');editor.style.background='rgba(255,0,0,0.2)';this.parentNode.removeChild(this)\" style=\"display:none\">"
      ],
      "text/plain": [
       "<IPython.core.display.HTML object>"
      ]
     },
     "metadata": {},
     "output_type": "display_data"
    }
   ],
   "source": [
    "set_background(red_bgd)\n",
    "\n",
    "## Load the data using np.load\n",
    "## Look at the dimensions of the data and plot it out accordingly\n",
    "## Comment on the plot\n",
    "toy_data = ???\n",
    "\n",
    "print(f\"Toy data shape is {toy_data.shape}\" )\n",
    "\n",
    "plt.plot(???)\n",
    "\n",
    "## Comment on what you see:\n",
    "\n"
   ]
  },
  {
   "cell_type": "code",
   "execution_count": 32,
   "metadata": {},
   "outputs": [
    {
     "data": {
      "text/html": [
       "<img src onerror=\"var cell = this.closest('.jp-CodeCell');var editor = cell.querySelector('.jp-Editor');editor.style.background='rgba(255,0,0,0.2)';this.parentNode.removeChild(this)\" style=\"display:none\">"
      ],
      "text/plain": [
       "<IPython.core.display.HTML object>"
      ]
     },
     "metadata": {},
     "output_type": "display_data"
    }
   ],
   "source": [
    "set_background(red_bgd)\n",
    "\n",
    "## Some other useful numpy methods that you can use are:\n",
    "## tensor.flatten()\n",
    "## tensor.reshape()\n",
    "\n",
    "## Have a play around with these and comment on what each one does\n",
    "\n",
    "# temp_array = np.random.rand(10,10)\n",
    "# print(temp_array.flatten().shape)\n",
    "# print(temp_array.reshape(5,-1).shape)\n",
    "\n",
    "# eye_array = np.eye(5)\n",
    "# eye_array\n",
    "\n",
    "\n"
   ]
  },
  {
   "cell_type": "markdown",
   "metadata": {},
   "source": [
    "Broadcasting is a powerful tool that lets us perform element wise matrix or vector operations across higher dimensional Tensors. <br>\n",
    "\n",
    "![alt text](https://media.geeksforgeeks.org/wp-content/uploads/numpy2.png)\n",
    "\n",
    "Lets see what we mean by this by working through the example below:"
   ]
  },
  {
   "cell_type": "code",
   "execution_count": null,
   "metadata": {},
   "outputs": [],
   "source": [
    "#Lets create 2 differently shaped 2D Tensors (Matrices)\n",
    "\n",
    "Tensor1 = np.random.randint(0, 10, (1, 4))\n",
    "Tensor2 = np.random.randint(0, 10, (2, 1))\n",
    "\n",
    "print(\"Tensor 1:\\n\", Tensor1)\n",
    "print(\"With shape:\\n\", Tensor1.shape)\n",
    "\n",
    "print(\"\\nTensor 2:\\n\", Tensor2)\n",
    "print(\"With shape:\\n\", Tensor2.shape)\n",
    "\n"
   ]
  },
  {
   "cell_type": "markdown",
   "metadata": {},
   "source": [
    "We know from high school days that there is no way we can perform a normal matrix addition on these two matrices, so when we try Numpy should give us an error right?"
   ]
  },
  {
   "cell_type": "code",
   "execution_count": null,
   "metadata": {},
   "outputs": [],
   "source": [
    "Tensor3 = np.add(Tensor1, Tensor2)\n",
    "\n",
    "print(\"The resulting Tensor:\\n\", Tensor3)\n",
    "print(\"The resulting shape is:\\n\", Tensor3.shape)\n",
    "\n",
    "# set_background(red_bgd)"
   ]
  },
  {
   "cell_type": "markdown",
   "metadata": {},
   "source": [
    "WHAT!?! A 1x4 Matrix added a 2x1? resulting in a 2x4 Matrix, What did Numpy do here?<br>\n",
    "Well, as suggested Numpy is NOT performing a normal Matrix addition. Instead Numpy is performing a broadcast operation, THEN a Matrix addition. <br>\n",
    "So then, what is Broadcasting? <br>\n",
    "Let's look again at the shape of those two 2D Tensors and the resulting Tensor"
   ]
  },
  {
   "cell_type": "code",
   "execution_count": null,
   "metadata": {},
   "outputs": [],
   "source": [
    "print(\"Tensor 1 shape:\\n\", Tensor1.shape)\n",
    "print(\"Tensor 2 shape:\\n\", Tensor2.shape)\n",
    "print(\"Resulting Tensor shape:\\n\", Tensor3.shape)\n",
    "\n"
   ]
  },
  {
   "cell_type": "markdown",
   "metadata": {},
   "source": [
    "We can see the resulting shape of the Tensor addition seems to come from the larger dimensions of the multiplication<br>\n",
    "1x<b>4</b>+<b>2</b>x1 = <b>4x2</b> <br>\n",
    "During the \"Broadcast\" operation Numpy \"repeats\" (Broadcasts) dimensions of the two Tensors so that they are the same shape, and then performs the addition. <br>\n",
    "__Where is this useful?__ In many cases in data science, we may want to perform the same operation with various arguments. For example, we may want to add numbers stored in an array, one by one to another array. You can do this by using a for-loop. Thankfully, NumPy makes things simple for us via broadcasting!"
   ]
  },
  {
   "cell_type": "markdown",
   "metadata": {},
   "source": [
    "## 2.2 Matplotlib"
   ]
  },
  {
   "cell_type": "code",
   "execution_count": null,
   "metadata": {},
   "outputs": [],
   "source": [
    "Image(url='https://matplotlib.org/_static/logo2_compressed.svg', width=300)"
   ]
  },
  {
   "cell_type": "markdown",
   "metadata": {},
   "source": [
    "\n",
    "\n",
    "Matplotlib is a \"Matlab-ish\" plotting librariy that lets us create all sorts of figures and plots. As suggested it works very similarly to Matlab's plotting functunality (specifically matplotlib.pyplot). The matplotlib library works very closely wth numpy and can plot out numpy arrays.\n"
   ]
  },
  {
   "cell_type": "code",
   "execution_count": 33,
   "metadata": {},
   "outputs": [
    {
     "data": {
      "text/html": [
       "<img src onerror=\"var cell = this.closest('.jp-CodeCell');var editor = cell.querySelector('.jp-Editor');editor.style.background='rgba(255,0,0,0.2)';this.parentNode.removeChild(this)\" style=\"display:none\">"
      ],
      "text/plain": [
       "<IPython.core.display.HTML object>"
      ]
     },
     "metadata": {},
     "output_type": "display_data"
    }
   ],
   "source": [
    "set_background(red_bgd)\n",
    "\n",
    "#lets create a plot of a noisy parabola!\n",
    "#create some empty lists\n",
    "x_parab_values = []\n",
    "y_parab_values = []\n",
    "\n",
    "#In a for-loop create the x and y values\n",
    "#use the math function \"pow\" to compute x^2\n",
    "#and then add a random number from 0 - 1\n",
    "\n"
   ]
  },
  {
   "cell_type": "code",
   "execution_count": 34,
   "metadata": {},
   "outputs": [
    {
     "data": {
      "text/html": [
       "<img src onerror=\"var cell = this.closest('.jp-CodeCell');var editor = cell.querySelector('.jp-Editor');editor.style.background='rgba(255,0,0,0.2)';this.parentNode.removeChild(this)\" style=\"display:none\">"
      ],
      "text/plain": [
       "<IPython.core.display.HTML object>"
      ]
     },
     "metadata": {},
     "output_type": "display_data"
    }
   ],
   "source": [
    "set_background(red_bgd)\n",
    "## Make a scatterplot\n",
    "## Make sure you add your x and y labels. Add a title as well. Play around with the colour and marker types. \n",
    "## For more information, you can refer to the official matplotlib documentation: https://matplotlib.org/stable/api/index.html\n",
    "\n",
    "plt.???\n"
   ]
  },
  {
   "cell_type": "code",
   "execution_count": 35,
   "metadata": {},
   "outputs": [
    {
     "data": {
      "text/html": [
       "<img src onerror=\"var cell = this.closest('.jp-CodeCell');var editor = cell.querySelector('.jp-Editor');editor.style.background='rgba(255,0,0,0.2)';this.parentNode.removeChild(this)\" style=\"display:none\">"
      ],
      "text/plain": [
       "<IPython.core.display.HTML object>"
      ]
     },
     "metadata": {},
     "output_type": "display_data"
    }
   ],
   "source": [
    "set_background(red_bgd)\n",
    "\n",
    "## Discuss what you see\n",
    "\n"
   ]
  },
  {
   "cell_type": "markdown",
   "metadata": {},
   "source": [
    "# Section 3 - Applying your python knowledge \n",
    "\n",
    "In this section, you will apply the python basics that you have learnt so far in mathematical based problems. This section has two tasks:\n",
    "\n",
    "- Estimating $\\pi$\n",
    "- Calculating the volume of an N-dimensional ball\n",
    "\n",
    "You have to use numpy and matplotlib to complete this section."
   ]
  },
  {
   "cell_type": "markdown",
   "metadata": {},
   "source": [
    "## 3.1 - Estimating $\\pi$\n",
    "\n",
    "In this task, you will be estimating the value of pi. The way that we can estimate the value of pi is by performing **random uniform sampling** between the values of \\[0,1) in 2 dimensions. Next, we apply L2 normalisation (ie. euclidean distance) to every datapoint in the 2 dimensions and the probablity that a randomly sampled point lies within the unit circle. That probability provides us with 1/4 of the area, so we take this area and multiply it by 4 to calculate $\\pi$. The following figure shows 10 randomly sampled points:\n",
    "\n",
    "\n"
   ]
  },
  {
   "cell_type": "code",
   "execution_count": null,
   "metadata": {},
   "outputs": [],
   "source": [
    "Image(url='https://miro.medium.com/max/803/0*oWmkwPg771ISI_aW', width=300)"
   ]
  },
  {
   "cell_type": "markdown",
   "metadata": {},
   "source": [
    "The equation below demonstrates how $\\pi$ can be calculated\n",
    "\n",
    "\\begin{equation*}\n",
    "\\frac{(\\pi r^2)}{4} = area\n",
    "\\newline\n",
    "\\pi = \\frac{4 * area}{r^2}\n",
    "\\newline\n",
    "\\pi = 4 * area\n",
    "\\newline\n",
    "\\pi = 4 * \\frac{8}{10} = 3.2\n",
    "\\end{equation*}\n",
    "\n",
    "Where _area_ is the probability of a point being within the unit circle. In the above example, we have 8 points (out of 10) within the unit circle\n",
    "\n",
    "You can read this article to get a better understanding of what is happening: https://www.cantorsparadise.com/calculating-the-value-of-pi-using-random-numbers-a-monte-carlo-simulation-d4b80dc12bdf\n",
    "\n",
    "Use Numpy to complete this task."
   ]
  },
  {
   "cell_type": "code",
   "execution_count": null,
   "metadata": {},
   "outputs": [],
   "source": [
    "dim = 2 ## Number of dimensions needed to estimate pi\n",
    "nSamples = int(1e4) ## Number of samples to be generated to estimate pi\n"
   ]
  },
  {
   "cell_type": "code",
   "execution_count": 7,
   "metadata": {},
   "outputs": [
    {
     "data": {
      "text/html": [
       "<img src onerror=\"var cell = this.closest('.jp-CodeCell');var editor = cell.querySelector('.jp-Editor');editor.style.background='rgba(255,0,0,0.2)';this.parentNode.removeChild(this)\" style=\"display:none\">"
      ],
      "text/plain": [
       "<IPython.core.display.HTML object>"
      ]
     },
     "metadata": {},
     "output_type": "display_data"
    }
   ],
   "source": [
    "set_background(red_bgd)\n",
    "\n",
    "## Write your code here to estimate the value of pi\n",
    "## You should use np.random.uniform to generate your random numbers\n",
    "\n",
    "\n"
   ]
  },
  {
   "cell_type": "code",
   "execution_count": 8,
   "metadata": {},
   "outputs": [
    {
     "data": {
      "text/html": [
       "<img src onerror=\"var cell = this.closest('.jp-CodeCell');var editor = cell.querySelector('.jp-Editor');editor.style.background='rgba(255,0,0,0.2)';this.parentNode.removeChild(this)\" style=\"display:none\">"
      ],
      "text/plain": [
       "<IPython.core.display.HTML object>"
      ]
     },
     "metadata": {},
     "output_type": "display_data"
    }
   ],
   "source": [
    "set_background(red_bgd)\n",
    "\n",
    "## Is the estimate of pi close to the actual value? Why/why not? What could be potential influences?\n",
    "\n"
   ]
  },
  {
   "cell_type": "markdown",
   "metadata": {},
   "source": [
    "## 3.2 - Calculating the volume of an N-dimensional ball"
   ]
  },
  {
   "cell_type": "markdown",
   "metadata": {},
   "source": [
    "In this task, we want to estimate and calculate the volume of an N-dimensional ball of radius one and discuss the implications of scaling to a higher dimensional space. \n",
    "\n",
    "For a 2-dimensional ball (circle), the volume is by $\\pi r^2$\n",
    "\n",
    "For a 3-dimensional ball (sphere), the volume is given by $\\frac{4 \\pi r^3}{3}$\n",
    "\n",
    "For an N-dimensional ball, the volume is given by $V_n(r) = \\frac{\\pi ^ \\frac{n}{2}}{\\Gamma(\\frac{n}{2} + 1)}r^n$\n",
    "\n",
    "$\\Gamma$ is called _gamma_ and it is analagous to factorials but across the continuous domain. In this case, we are using it for calculus to calculate the volume of an N-dimensional ball. You can simply use the _gamma()_ function directly (we have imported this for you) in order to calculate the volume of an N-dimensional ball. Feel free to read more here with regards to N-dimensional balls: https://en.wikipedia.org/wiki/Volume_of_an_n-ball\n",
    "\n",
    "Your task is to:\n",
    "\n",
    "1. For dimensions from 2 to 50, do steps 2 and 3.\n",
    "2. Estimate the volume of an N-dimensional ball (similar to question 3). You can do this by taking the probability of a point being inside the N-dimensional ball of radius 1 by sampling between \\[0,1) across the N-dimensions and calculating its Euclidean distance. Afterwards, you can calculate the volume by doing 2^N * (fraction of points within unit circle in high dimensional space). This is similar to question 3.\n",
    "3. Calculate the actual volume of an N-dimensional ball with the equation given before. \n",
    "4. Compare estimated and actual volume. Comment your findings.\n",
    "5. Interpret the actual volume and see if there is anything unexpected. Comment on your findings. \n",
    "\n",
    "Use Numpy and matplotplib to complete this task."
   ]
  },
  {
   "cell_type": "code",
   "execution_count": 37,
   "metadata": {},
   "outputs": [
    {
     "data": {
      "text/html": [
       "<img src onerror=\"var cell = this.closest('.jp-CodeCell');var editor = cell.querySelector('.jp-Editor');editor.style.background='rgba(255,0,0,0.2)';this.parentNode.removeChild(this)\" style=\"display:none\">"
      ],
      "text/plain": [
       "<IPython.core.display.HTML object>"
      ]
     },
     "metadata": {},
     "output_type": "display_data"
    }
   ],
   "source": [
    "set_background(red_bgd)\n",
    "\n",
    "first_dim = 2\n",
    "last_dim = 50\n",
    "\n",
    "nSamples = int(1e6)\n",
    "\n",
    "## Calculate the estimated volume of an N-dimensional ball from 2 to the 50th dimensions\n",
    "\n",
    "\n"
   ]
  },
  {
   "cell_type": "code",
   "execution_count": 4,
   "metadata": {},
   "outputs": [
    {
     "data": {
      "text/html": [
       "<img src onerror=\"var cell = this.closest('.jp-CodeCell');var editor = cell.querySelector('.jp-Editor');editor.style.background='rgba(255,0,0,0.2)';this.parentNode.removeChild(this)\" style=\"display:none\">"
      ],
      "text/plain": [
       "<IPython.core.display.HTML object>"
      ]
     },
     "metadata": {},
     "output_type": "display_data"
    }
   ],
   "source": [
    "set_background(red_bgd)\n",
    "\n",
    "## Calculate the actual volume of an N-dimensional ball from 2 to the 50th dimensions\n",
    "\n",
    "    "
   ]
  },
  {
   "cell_type": "code",
   "execution_count": 5,
   "metadata": {},
   "outputs": [
    {
     "data": {
      "text/html": [
       "<img src onerror=\"var cell = this.closest('.jp-CodeCell');var editor = cell.querySelector('.jp-Editor');editor.style.background='rgba(255,0,0,0.2)';this.parentNode.removeChild(this)\" style=\"display:none\">"
      ],
      "text/plain": [
       "<IPython.core.display.HTML object>"
      ]
     },
     "metadata": {},
     "output_type": "display_data"
    }
   ],
   "source": [
    "set_background(red_bgd)\n",
    "\n",
    "## Plot the estimated and actual volume of the N-dimensional ball as a line graph\n",
    "## Hint: The points should align well between the estimated and actual values\n",
    "\n",
    "\n",
    "\n",
    "# set_background(red_bgd)"
   ]
  },
  {
   "cell_type": "code",
   "execution_count": 36,
   "metadata": {},
   "outputs": [
    {
     "data": {
      "text/html": [
       "<img src onerror=\"var cell = this.closest('.jp-CodeCell');var editor = cell.querySelector('.jp-Editor');editor.style.background='rgba(255,0,0,0.2)';this.parentNode.removeChild(this)\" style=\"display:none\">"
      ],
      "text/plain": [
       "<IPython.core.display.HTML object>"
      ]
     },
     "metadata": {},
     "output_type": "display_data"
    }
   ],
   "source": [
    "set_background(red_bgd)\n",
    "\n",
    "## Discuss what you see with regards to the volume of an N-dimensional ball (with N going from 2 to 50). \n",
    "\n",
    "## What do you notice about the volume with respect to higher dimensions?\n",
    "\n"
   ]
  },
  {
   "cell_type": "markdown",
   "metadata": {},
   "source": [
    "# Do not remove or edit the following code snippet. \n",
    "\n",
    "When submitting your report, please ensure that you have run the entire notebook from top to bottom. You can do this by clicking \"Kernel\" and \"Restart Kernel and Run All Cells\". Make sure the last cell (below) has also been run. "
   ]
  },
  {
   "cell_type": "code",
   "execution_count": null,
   "metadata": {},
   "outputs": [],
   "source": [
    "file_name = str(student_number) + '_Lab1_Submission.py'\n",
    "cmd = \"jupyter nbconvert --to script Lab_1_Student.ipynb --output \" + file_name\n",
    "if(os.system(cmd)):\n",
    "    print(\"Error converting to .py\")"
   ]
  }
 ],
 "metadata": {
  "interpreter": {
   "hash": "70931b1f795e9f6c4a65c63751d6e1a5ce2513e077f66f45128f19b7bedfe461"
  },
  "kernelspec": {
   "display_name": "Python 3 (ipykernel)",
   "language": "python",
   "name": "python3"
  },
  "language_info": {
   "codemirror_mode": {
    "name": "ipython",
    "version": 3
   },
   "file_extension": ".py",
   "mimetype": "text/x-python",
   "name": "python",
   "nbconvert_exporter": "python",
   "pygments_lexer": "ipython3",
   "version": "3.9.12"
  }
 },
 "nbformat": 4,
 "nbformat_minor": 4
}
